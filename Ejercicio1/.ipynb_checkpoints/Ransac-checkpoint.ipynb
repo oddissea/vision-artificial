{
 "cells": [
  {
   "cell_type": "code",
   "execution_count": null,
   "id": "c7caa39f",
   "metadata": {},
   "outputs": [],
   "source": [
    "# Importa la función para la representación de las imágenes\n",
    "import sys  \n",
    "sys.path.insert(0, '../')\n",
    "\n",
    "import resources as src"
   ]
  },
  {
   "cell_type": "code",
   "execution_count": null,
   "id": "de6b466a",
   "metadata": {},
   "outputs": [],
   "source": [
    "import cv2 as cv\n",
    "import numpy as np\n",
    "from matplotlib import pyplot as plt\n",
    "from sklearn import linear_model"
   ]
  },
  {
   "cell_type": "code",
   "execution_count": null,
   "id": "29a090ec",
   "metadata": {},
   "outputs": [],
   "source": [
    "# Localización de la imagen\n",
    "img_path = '../data/lineaRuidosa.png'"
   ]
  },
  {
   "cell_type": "code",
   "execution_count": null,
   "id": "5357b5eb",
   "metadata": {},
   "outputs": [],
   "source": [
    "# Lee la imagen original\n",
    "ruido_BGR = cv.imread(img_path, cv.IMREAD_COLOR)\n",
    "ruido_RGB = cv.cvtColor(ruido_BGR, cv.COLOR_BGR2RGB)\n",
    "ruido_bn = cv.cvtColor(ruido_RGB, cv.COLOR_BGR2GRAY)"
   ]
  },
  {
   "cell_type": "code",
   "execution_count": null,
   "id": "758e90a3",
   "metadata": {},
   "outputs": [],
   "source": [
    "# Recorre la imagen extrayendo las coordenadas de \n",
    "# los puntos cuyo valor está más próximo a 0 (negro)\n",
    "# En este caso se opta por los pixeles\n",
    "# casi negros < 10\n",
    "columnas = []\n",
    "filas = []\n",
    "count = 0\n",
    "for i in range(ruido_bn.shape[0]):\n",
    "    for j in range(ruido_bn.shape[1]):\n",
    "        if ruido_bn[i, j] < 10:\n",
    "            count = count + 1\n",
    "            columnas.append(j)\n",
    "            filas.append(i)"
   ]
  },
  {
   "cell_type": "markdown",
   "id": "0759c131",
   "metadata": {},
   "source": [
    "## RANSAC"
   ]
  },
  {
   "cell_type": "code",
   "execution_count": null,
   "id": "6a661503",
   "metadata": {},
   "outputs": [],
   "source": [
    "# Utiliza el modelo de regresión RANSAC\n",
    "# del paquete SciKit Learn\n",
    "\n",
    "# Se adecua el dataset para su uso\n",
    "X = np.array(columnas).reshape(-1, 1)\n",
    "y = np.array(filas).reshape(-1, 1)\n",
    "\n",
    "# Crea el modelo de regresión y realiza el ajuste\n",
    "ransac = linear_model.RANSACRegressor()\n",
    "ransac.fit(X, y)\n",
    "\n",
    "# Crea las máscaras para los elementos próximos (inliers)\n",
    "# y los considerados outliers \n",
    "inlier_mask = ransac.inlier_mask_\n",
    "outlier_mask = np.logical_not(inlier_mask)\n",
    "\n",
    "# Devuelve la predicción con RANSAC\n",
    "line_X = np.arange(X.min(), X.max())[:, np.newaxis]\n",
    "line_y_ransac = ransac.predict(line_X)"
   ]
  },
  {
   "cell_type": "code",
   "execution_count": null,
   "id": "c919e525",
   "metadata": {},
   "outputs": [],
   "source": [
    "# Representación del resultado de la regresión\n",
    "\n",
    "# se define una figura ajestada a los límites originales\n",
    "fig, ax = plt.subplots(figsize=(22, 4))\n",
    "ax.set(xlim=(X.min(), X.max()), ylim=(y.max(), y.min()))\n",
    "\n",
    "# Representa los puntos inliers y outliers según las máscaras \n",
    "# establecidas por el modelo\n",
    "plt.scatter(\n",
    "    X[inlier_mask], y[inlier_mask], color=\"yellowgreen\", marker=\".\", label=\"Inliers\"\n",
    ")\n",
    "plt.scatter(\n",
    "    X[outlier_mask], y[outlier_mask], color=\"gold\", marker=\".\", label=\"Outliers\"\n",
    ")\n",
    "\n",
    "# define el grosor de las lineas en la representación\n",
    "lw = 2\n",
    "\n",
    "# Representa la línea de regresión obtenida\n",
    "plt.plot(\n",
    "    line_y_ransac,\n",
    "    color=\"cornflowerblue\",\n",
    "    linewidth=lw,\n",
    "    label=\"Regresión con RANSAC\",\n",
    ")\n",
    "\n",
    "# Establece la leyenda de la figura en la esquina inferior derecha\n",
    "plt.legend(loc=\"lower right\")\n",
    "plt.ylabel(\"Nivel de ruido\")\n",
    "plt.show()"
   ]
  },
  {
   "cell_type": "markdown",
   "id": "0ac933c9",
   "metadata": {},
   "source": [
    "## Hough "
   ]
  },
  {
   "cell_type": "code",
   "execution_count": null,
   "id": "6d3a7e70",
   "metadata": {},
   "outputs": [],
   "source": [
    "# Función para dibujar las líneas en la imagen a partir de los \n",
    "# parámetros obtenidos en cv.HoughLinesP()\n",
    "\n",
    "from math import dist\n",
    "\n",
    "def distancia_max(lineas):\n",
    "    dm = 0\n",
    "    for i in range(0, len(lineas)):\n",
    "        l = lineas[i][0]\n",
    "        a = (l[0], l[1])\n",
    "        b = (l[2], l[3])\n",
    "        if dist(a,b) > dm:\n",
    "            dm = dist(a, b)\n",
    "            amax = a\n",
    "            bmax = b\n",
    "    print(dm)\n",
    "    return amax, bmax"
   ]
  },
  {
   "cell_type": "code",
   "execution_count": null,
   "id": "085d553a",
   "metadata": {},
   "outputs": [],
   "source": [
    "# Obtiene los bordes a partir de la imagen en escala de grises\n",
    "ruido_bordes = cv.Canny(ruido_bn, 50, 100, apertureSize=3)\n",
    "\n",
    "# Calcula las lineas usando el algoritmo Hough mejorado\n",
    "# lineas_HP = cv.HoughLinesP(ruido_bordes, 1, np.pi / 180, 0, None, 50, 10)\n",
    "lineas_HP = cv.HoughLinesP(ruido_bordes, 1, np.pi / 180, 80, minLineLength=50, maxLineGap=30)\n",
    "\n",
    "ruido_con_lineas_HP = np.copy(ruido_RGB)\n",
    "\n",
    "# Obtiene los puntos inicial y final de la linea más larga\n",
    "a, b = distancia_max(lineas_HP)"
   ]
  },
  {
   "cell_type": "markdown",
   "id": "6e73a621",
   "metadata": {},
   "source": [
    "## Comparación de los resultados"
   ]
  },
  {
   "cell_type": "code",
   "execution_count": null,
   "id": "e7c06ff8",
   "metadata": {},
   "outputs": [],
   "source": [
    "# Coordenadas de la linea de regresión de RANSAC\n",
    "r0 = round(np.rint(line_y_ransac[0]).item())\n",
    "r1 = round(np.rint(line_y_ransac[line_y_ransac.size-1]).item())\n",
    "\n",
    "# Hace una copia de la imagen con ruido RGB\n",
    "ruido_regresion_RANSAC = ruido_RGB.copy()\n",
    "\n",
    "# Traza la linea en la imagen\n",
    "cv.line(ruido_regresion_RANSAC, (X.min(), r0), (X.max(), r1), (0,0,255), 2, cv.LINE_AA)\n",
    "\n",
    "# Traza la linea más larga obtenida con el algoritmo de Hough\n",
    "cv.line(ruido_con_lineas_HP, a, b, (0,0,255), 2, cv.LINE_AA)\n",
    "\n",
    "# Establece los títulos para la representación de las imágenes\n",
    "titulos = ['Bordes',\n",
    "           'Líneas con Hough mejorado',\n",
    "           'Linea con RANSAC']\n",
    "\n",
    "# Establece las imágenes para los ejes\n",
    "imagenes = [ruido_bordes, ruido_con_lineas_HP, ruido_regresion_RANSAC]\n",
    "\n",
    "# Muestra las imágenes \n",
    "# Funcion mostrar imágenes del archivo importado\n",
    "src.mostrar_imagenes(3, 1, titulos, imagenes, 20, 14, (True, False, False))"
   ]
  },
  {
   "cell_type": "code",
   "execution_count": null,
   "id": "9a372507",
   "metadata": {},
   "outputs": [],
   "source": []
  }
 ],
 "metadata": {
  "kernelspec": {
   "display_name": "Python 3 (ipykernel)",
   "language": "python",
   "name": "python3"
  },
  "language_info": {
   "codemirror_mode": {
    "name": "ipython",
    "version": 3
   },
   "file_extension": ".py",
   "mimetype": "text/x-python",
   "name": "python",
   "nbconvert_exporter": "python",
   "pygments_lexer": "ipython3",
   "version": "3.10.13"
  }
 },
 "nbformat": 4,
 "nbformat_minor": 5
}
