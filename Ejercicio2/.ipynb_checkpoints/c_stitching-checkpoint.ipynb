{
 "cells": [
  {
   "cell_type": "code",
   "execution_count": 1,
   "id": "a887314c",
   "metadata": {},
   "outputs": [],
   "source": [
    "# Importa la función para la representación de las imágenes\n",
    "import sys  \n",
    "sys.path.insert(0, '../')\n",
    "\n",
    "import resources as src"
   ]
  },
  {
   "cell_type": "code",
   "execution_count": 2,
   "id": "3adab791",
   "metadata": {},
   "outputs": [],
   "source": [
    "# Imágenes tomadas por la cámara\n",
    "path1 = '../data/camara/imgn1.jpeg'\n",
    "path2 = '../data/camara/imgn2.jpeg'\n",
    "path3 = '../data/camara/imgn3.jpeg'"
   ]
  },
  {
   "cell_type": "code",
   "execution_count": 3,
   "id": "2f98658f",
   "metadata": {},
   "outputs": [],
   "source": [
    "import cv2\n",
    "import numpy as np\n",
    "import matplotlib.pyplot as plt\n",
    "import imageio\n",
    "import imutils\n",
    "cv2.ocl.setUseOpenCL(False)\n",
    "\n"
   ]
  },
  {
   "cell_type": "code",
   "execution_count": 4,
   "id": "650c2a23",
   "metadata": {},
   "outputs": [],
   "source": [
    "# Cargamos las imágenes obtenidas de la cámara en memoria\n",
    "img1 = imageio.v2.imread(path1)\n",
    "img2 = imageio.v2.imread(path2)\n",
    "img3 = imageio.v2.imread(path3)"
   ]
  },
  {
   "cell_type": "code",
   "execution_count": 5,
   "id": "0cc1a033",
   "metadata": {},
   "outputs": [],
   "source": [
    "# Cargamos las imágenes del tutorial\n",
    "img_tutorial_1 = imageio.v2.imread('http://www.ic.unicamp.br/~helio/imagens_registro/foto1A.jpg')\n",
    "img_tutorial_2 = imageio.v2.imread('http://www.ic.unicamp.br/~helio/imagens_registro/foto1B.jpg')"
   ]
  },
  {
   "cell_type": "code",
   "execution_count": 6,
   "id": "ba66a353",
   "metadata": {},
   "outputs": [],
   "source": [
    "# Mostramos las imágenes tomadas con la cámara\n",
    "src.mostrar_imagenes(1, 3, ['Imagen 1', 'Imagen 2', 'Imagen 3'], [img1, img2, img3], 10, 7, (False, False, False))"
   ]
  },
  {
   "cell_type": "code",
   "execution_count": 9,
   "id": "b7dc336f",
   "metadata": {},
   "outputs": [],
   "source": [
    "# Creamos un objeto Stitcher\n",
    "stitcher = cv2.Stitcher.create()\n",
    "\n",
    "# Realizamos el stiching de las imágenes\n",
    "status, result = stitcher.stitch((img1, img2, img3))\n",
    "\n",
    "\n",
    "# Comprobamos el estado devuelto por el método stitch()\n",
    "if status == cv2.STITCHER_OK:\n",
    "    # Mostramos el resultado\n",
    "    src.mostrar_imagenes(1, 1, ['Resultado de las imágenes tomadas con la cámara'], [result], 10, 7, (False, 0))\n",
    "elif status == cv2.STITCHER_ERR_NEED_MORE_IMGS:\n",
    "    print(\"Se necesitan más imágenes para realizar el stiching\")\n",
    "elif status == cv2.STITCHER_ERR_HOMOGRAPHY_EST_FAIL:\n",
    "    print(\"Error al calcular la homografía\")\n",
    "elif status == cv2.STITCHER_ERR_CAMERA_PARAMS_ADJUST_FAIL:\n",
    "    print(\"Error al ajustar los parámetros de la cámara\")\n",
    "else:\n",
    "    print(\"Error desconocido al realizar el stiching\")"
   ]
  },
  {
   "cell_type": "code",
   "execution_count": 10,
   "id": "f88944ff",
   "metadata": {},
   "outputs": [],
   "source": [
    "# Realizamos el stiching de las imágenes\n",
    "status2, result2 = stitcher.stitch((img_tutorial_1, img_tutorial_2))"
   ]
  },
  {
   "cell_type": "code",
   "execution_count": 11,
   "id": "dcf542f7",
   "metadata": {},
   "outputs": [],
   "source": [
    "# Mostramos el resultado\n",
    "src.mostrar_imagenes(1, 1, ['Resultado de las imágenes del tutorial'], [result2], 10, 7, (False, 0))"
   ]
  },
  {
   "cell_type": "code",
   "execution_count": null,
   "id": "2cd27783",
   "metadata": {},
   "outputs": [],
   "source": []
  }
 ],
 "metadata": {
  "kernelspec": {
   "display_name": "Python 3 (ipykernel)",
   "language": "python",
   "name": "python3"
  },
  "language_info": {
   "codemirror_mode": {
    "name": "ipython",
    "version": 3
   },
   "file_extension": ".py",
   "mimetype": "text/x-python",
   "name": "python",
   "nbconvert_exporter": "python",
   "pygments_lexer": "ipython3",
   "version": "3.9.15"
  }
 },
 "nbformat": 4,
 "nbformat_minor": 5
}
