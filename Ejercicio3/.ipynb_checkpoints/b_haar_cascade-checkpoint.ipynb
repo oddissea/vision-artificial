{
 "cells": [
  {
   "cell_type": "code",
   "execution_count": 65,
   "id": "7e20d186",
   "metadata": {},
   "outputs": [],
   "source": [
    "# Importa la función para la representación de las imágenes\n",
    "import sys  \n",
    "sys.path.insert(0, '../')\n",
    "\n",
    "import numpy as np \n",
    "import cv2\n",
    "import imageio\n",
    "import resources as src"
   ]
  },
  {
   "cell_type": "code",
   "execution_count": 66,
   "id": "6aa54ecc",
   "metadata": {},
   "outputs": [],
   "source": [
    "faces_haar = '../data/cascades/haarcascade_frontalface_default.xml'\n",
    "eyes_haar = '../data/cascades/haarcascade_eye.xml'\n",
    "big_bang_path = '../data/big_bang.jpeg'\n",
    "carnet_path = '../data/foto_carnet.png'"
   ]
  },
  {
   "cell_type": "code",
   "execution_count": 67,
   "id": "91d71c93",
   "metadata": {},
   "outputs": [],
   "source": [
    "# Se define la función de detección\n",
    "def deteccion_caras(face_cascade, eye_cascade, img, scaleFactor):    \n",
    "    gray = cv2.cvtColor(img, cv2.COLOR_BGR2GRAY)\n",
    "    faces = face_cascade.detectMultiScale(gray, scaleFactor, 5)\n",
    "    for (x,y,w,h) in faces:\n",
    "        img = cv2.rectangle(img,(x,y),(x+w,y+h),(255,0,0),2)\n",
    "        roi_gray = gray[y:y+h, x:x+w]\n",
    "        roi_color = img[y:y+h, x:x+w]\n",
    "        eyes = eye_cascade.detectMultiScale(roi_gray)\n",
    "    for (ex,ey,ew,eh) in eyes:\n",
    "        cv2.rectangle(roi_color,(ex,ey),(ex+ew,ey+eh),(0,255,0),2)"
   ]
  },
  {
   "cell_type": "code",
   "execution_count": 68,
   "id": "fc51a650",
   "metadata": {},
   "outputs": [],
   "source": [
    "# Se cargan los clasificadores\n",
    "face_cascade = cv2.CascadeClassifier(faces_haar) \n",
    "eye_cascade = cv2.CascadeClassifier(eyes_haar)\n",
    "\n",
    "# Se cargan las imagenes\n",
    "big_bang = imageio.v2.imread(big_bang_path)\n",
    "carnet = imageio.v2.imread(carnet_path)\n",
    "\n",
    "# Se realiza la detección en las imágenes\n",
    "deteccion_caras(face_cascade, eye_cascade, big_bang, 1.1)\n",
    "deteccion_caras(face_cascade, eye_cascade, big_bang, 1.3)\n",
    "deteccion_caras(face_cascade, eye_cascade, carnet, 1.5)"
   ]
  },
  {
   "cell_type": "code",
   "execution_count": 69,
   "id": "be8c8b83",
   "metadata": {},
   "outputs": [],
   "source": [
    "# Mostramos el resultado\n",
    "# src.mostrar_imagenes(1, 1, ['Detección de caras y ojos'], [big_bang], 10, 7, (False, 0))"
   ]
  },
  {
   "cell_type": "code",
   "execution_count": null,
   "id": "112324b9",
   "metadata": {},
   "outputs": [],
   "source": []
  }
 ],
 "metadata": {
  "kernelspec": {
   "display_name": "Python 3 (ipykernel)",
   "language": "python",
   "name": "python3"
  },
  "language_info": {
   "codemirror_mode": {
    "name": "ipython",
    "version": 3
   },
   "file_extension": ".py",
   "mimetype": "text/x-python",
   "name": "python",
   "nbconvert_exporter": "python",
   "pygments_lexer": "ipython3",
   "version": "3.9.15"
  }
 },
 "nbformat": 4,
 "nbformat_minor": 5
}
