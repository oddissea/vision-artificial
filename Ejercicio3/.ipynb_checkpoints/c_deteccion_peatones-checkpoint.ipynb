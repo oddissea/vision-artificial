{
 "cells": [
  {
   "cell_type": "code",
   "execution_count": 68,
   "id": "8f1f89b0",
   "metadata": {},
   "outputs": [],
   "source": [
    "# Importa la función para la representación de las imágenes\n",
    "import sys  \n",
    "sys.path.insert(0, '../')\n",
    "\n",
    "from imutils.object_detection import non_max_suppression\n",
    "from imutils import paths\n",
    "import numpy as np\n",
    "import argparse\n",
    "import imutils\n",
    "import cv2\n",
    "import imageio\n",
    "import resources as src"
   ]
  },
  {
   "cell_type": "code",
   "execution_count": 69,
   "id": "cb912df4",
   "metadata": {},
   "outputs": [
    {
     "data": {
      "text/plain": [
       "['../data/pedestrians/pedestrian1.jpeg',\n",
       " '../data/pedestrians/pedestrian2.jpeg',\n",
       " '../data/pedestrians/pedestrian3.jpeg',\n",
       " '../data/pedestrians/pedestrian4.jpeg',\n",
       " '../data/pedestrians/pedestrian5.jpeg',\n",
       " '../data/pedestrians/pedestrian6.jpeg']"
      ]
     },
     "execution_count": 69,
     "metadata": {},
     "output_type": "execute_result"
    }
   ],
   "source": [
    "# Rutas a las imágenes que vamos a usar\n",
    "def image_path(index):\n",
    "    return f'../data/pedestrians/pedestrian{index}.jpeg'\n",
    "\n",
    "pedestrians = []\n",
    "for i in range(6):\n",
    "    pedestrians.append(image_path(i+1))\n",
    "pedestrians"
   ]
  },
  {
   "cell_type": "code",
   "execution_count": 70,
   "id": "3302f970",
   "metadata": {},
   "outputs": [],
   "source": [
    "# Inicialización del detector HOG\n",
    "hog = cv2.HOGDescriptor()\n",
    "hog.setSVMDetector(cv2.HOGDescriptor_getDefaultPeopleDetector())"
   ]
  },
  {
   "cell_type": "code",
   "execution_count": 71,
   "id": "976b8895",
   "metadata": {},
   "outputs": [
    {
     "name": "stdout",
     "output_type": "stream",
     "text": [
      "[INFO] pedestrian1.jpeg: 3 Cajas originales, 3 después de la supresión\n",
      "[INFO] pedestrian2.jpeg: 2 Cajas originales, 2 después de la supresión\n",
      "[INFO] pedestrian3.jpeg: 2 Cajas originales, 2 después de la supresión\n",
      "[INFO] pedestrian4.jpeg: 1 Cajas originales, 1 después de la supresión\n",
      "[INFO] pedestrian5.jpeg: 1 Cajas originales, 1 después de la supresión\n",
      "[INFO] pedestrian6.jpeg: 1 Cajas originales, 1 después de la supresión\n"
     ]
    }
   ],
   "source": [
    "# Itera sobre las imágenes\n",
    "images = []\n",
    "for imagePath in pedestrians:\n",
    "    # Cargar la imagen y redimensionarla para \n",
    "    # (1) reducir el tiempo de detección\n",
    "    # (2) mejorar la precisión de detección\n",
    "    image = cv2.imread(imagePath)\n",
    "    image = cv2.cvtColor(image, cv2.COLOR_BGR2RGB)\n",
    "    image = imutils.resize(image, width=min(400, image.shape[1]))\n",
    "    orig = image.copy()\n",
    "    # Detecta las personas en la imagen\n",
    "    (rects, weights) = hog.detectMultiScale(image, winStride=(6, 6),\n",
    "                                            padding=(8, 8), scale=1.05)\n",
    "    # Dibuja los rectángulos\n",
    "    for (x, y, w, h) in rects:\n",
    "        cv2.rectangle(orig, (x, y), (x + w, y + h), (0, 0, 255), 2)\n",
    "\n",
    "    # Aplica NMS a los rectángulos utilizando un \n",
    "    # umbral de superposición bastante alto para \n",
    "    # intentar mantener las cajas superpuestas que \n",
    "    # recuadran a personas\n",
    "    rects = np.array([[x, y, x + w, y + h] for (x, y, w, h) in rects])\n",
    "    pick = non_max_suppression(rects, probs=None, overlapThresh=0.65)\n",
    "\n",
    "    # Dibuja las cajas finales\n",
    "    for (xA, yA, xB, yB) in pick:\n",
    "        cv2.rectangle(image, (xA, yA), (xB, yB), (0, 255, 0), 2)\n",
    "\n",
    "    # muestra información sobre el número de rectángulos delimitadores\n",
    "    filename = imagePath[imagePath.rfind(\"/\") + 1:]\n",
    "    print(\"[INFO] {}: {} Cajas originales, {} después de la supresión\".format(filename, len(rects), len(pick)))\n",
    "\n",
    "    images.append(image)\n",
    "    \n",
    "    # Muestra las imágenes antes y depués de la detección\n",
    "    # src.mostrar_imagenes(1, 2, ['Antes', 'Después'], [orig, image], 10, 7, (True, True))"
   ]
  },
  {
   "cell_type": "code",
   "execution_count": 72,
   "id": "19635825",
   "metadata": {},
   "outputs": [],
   "source": [
    "src.mostrar_imagenes(3, 2, ['1', '2', '3', '4', '5', '6'], images, 10, 10, (True, True, True, True, True, True))"
   ]
  },
  {
   "cell_type": "code",
   "execution_count": null,
   "id": "8d27ec59",
   "metadata": {},
   "outputs": [],
   "source": []
  }
 ],
 "metadata": {
  "kernelspec": {
   "display_name": "Python 3 (ipykernel)",
   "language": "python",
   "name": "python3"
  },
  "language_info": {
   "codemirror_mode": {
    "name": "ipython",
    "version": 3
   },
   "file_extension": ".py",
   "mimetype": "text/x-python",
   "name": "python",
   "nbconvert_exporter": "python",
   "pygments_lexer": "ipython3",
   "version": "3.9.15"
  }
 },
 "nbformat": 4,
 "nbformat_minor": 5
}
